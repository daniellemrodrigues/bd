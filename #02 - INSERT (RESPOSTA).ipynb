{
 "cells": [
  {
   "cell_type": "markdown",
   "metadata": {},
   "source": [
    "# INSERT"
   ]
  },
  {
   "cell_type": "markdown",
   "metadata": {},
   "source": [
    "Antes de começar execute os comandos de configuração:"
   ]
  },
  {
   "cell_type": "code",
   "execution_count": null,
   "metadata": {},
   "outputs": [],
   "source": [
    "# NÃO ALTERE ESSA CÉLULA\n",
    "# Carregando o módulo SQL\n",
    "%load_ext sql\n",
    "# Selecionando o Banco (no caso o SQLite)\n",
    "%sql sqlite:///databases/receita.db"
   ]
  },
  {
   "cell_type": "markdown",
   "metadata": {},
   "source": [
    "_<span style=\"color:red\">Atenção! Para possibilitar a execução dos comandos é necessário utilizar o comando mágico '%sql' ou '%%sql'.</span>_"
   ]
  },
  {
   "cell_type": "markdown",
   "metadata": {},
   "source": [
    "### Observe o seguinte esquema:"
   ]
  },
  {
   "cell_type": "markdown",
   "metadata": {},
   "source": [
    "<b>1. MODELO CONCEITUAL</b>\n",
    "\n",
    "<img src='images/c005.png' style=\"float: left;\" />"
   ]
  },
  {
   "cell_type": "markdown",
   "metadata": {},
   "source": [
    "<b>2. MODELO LÓGICO</b>\n",
    "\n",
    "<img src='images/l005.png' style=\"float: left;\" />"
   ]
  },
  {
   "cell_type": "markdown",
   "metadata": {},
   "source": [
    "<b>3. MODELO FÍSICO</b>"
   ]
  },
  {
   "cell_type": "raw",
   "metadata": {},
   "source": [
    "CREATE TABLE USUARIO (\n",
    "  usuarioCodigo INTEGER PRIMARY KEY,\n",
    "  usuarioTelefone VARCHAR(32) NOT NULL,\n",
    "  usuarioEmail VARCHAR(128) UNIQUE NOT NULL,\n",
    "  usuarioNome VARCHAR(128) NOT NULL,\n",
    "  usuarioSenha VARCHAR(32) NOT NULL\n",
    ");\n",
    "\n",
    "CREATE TABLE RECEITA (\n",
    "  receitaCodigo INTEGER PRIMARY KEY,\n",
    "  receitaData DATETIME NULL, \n",
    "  receitaTempo VARCHAR(32) NULL,\n",
    "  receitaNome VARCHAR(128) UNIQUE NOT NULL,\n",
    "  receitaClassificacao INTEGER NOT NULL DEFAULT (0),\n",
    "  receitaPassos TEXT NOT NULL,\n",
    "  FK_USUARIO_usuarioCodigo INTEGER NOT NULL,\n",
    "  FOREIGN KEY (FK_USUARIO_usuarioCodigo)\n",
    "    REFERENCES USUARIO (usuarioCodigo)\n",
    "    ON UPDATE CASCADE ON DELETE CASCADE\n",
    ");\n",
    "\n",
    "CREATE TABLE COMENTARIO (\n",
    "  comentarioCodigo INTEGER PRIMARY KEY,\n",
    "  comentarioData DATETIME NOT NULL,\n",
    "  comentarioTexto TEXT NOT NULL,\n",
    "  FK_RECEITA_receitaCodigo INTEGER NOT NULL,\n",
    "  FK_USUARIO_usuarioCodigo INTEGER NOT NULL,\n",
    "  FOREIGN KEY (FK_RECEITA_receitaCodigo)\n",
    "    REFERENCES RECEITA (receitaCodigo)\n",
    "    ON UPDATE CASCADE ON DELETE CASCADE,\n",
    "  FOREIGN KEY (FK_USUARIO_usuarioCodigo)\n",
    "    REFERENCES USUARIO (usuarioCodigo)\n",
    "    ON UPDATE CASCADE ON DELETE CASCADE\n",
    ");\n",
    "\n",
    "CREATE TABLE INGREDIENTE (\n",
    "  ingreditenteCodigo INTEGER PRIMARY KEY,\n",
    "  ingredienteNome VARCHAR(32) NOT NULL,\n",
    "  ingredienteDescricao TEXT NULL\n",
    ");\n",
    "\n",
    "CREATE TABLE CATEGORIA (\n",
    "  categoriaNome VARCHAR(32) PRIMARY KEY\n",
    ");\n",
    "\n",
    "CREATE TABLE INGREDIENTE_RECEITA (\n",
    "  FK_INGREDIENTE_ingreditenteCodigo INTEGER,\n",
    "  FK_RECEITA_receitaCodigo INTEGER,\n",
    "  quantidade FLOAT,\n",
    "  PRIMARY KEY (FK_INGREDIENTE_ingreditenteCodigo, FK_RECEITA_receitaCodigo),\n",
    "  FOREIGN KEY (FK_INGREDIENTE_ingreditenteCodigo)\n",
    "    REFERENCES INGREDIENTE (ingreditenteCodigo)\n",
    "    ON UPDATE NO ACTION ON DELETE NO ACTION,\n",
    "  FOREIGN KEY (FK_RECEITA_receitaCodigo)\n",
    "    REFERENCES RECEITA (receitaCodigo)\n",
    "    ON UPDATE NO ACTION ON DELETE NO ACTION\n",
    ");\n",
    "\n",
    "CREATE TABLE CATEGORIA_RECEITA (\n",
    "  FK_CATEGORIA_categoriaNome VARCHAR(32),\n",
    "  FK_RECEITA_receitaCodigo INTEGER,\n",
    "  PRIMARY KEY (FK_CATEGORIA_categoriaNome, FK_RECEITA_receitaCodigo),\n",
    "  FOREIGN KEY (FK_CATEGORIA_categoriaNome)\n",
    "    REFERENCES CATEGORIA (categoriaNome)\n",
    "    ON UPDATE NO ACTION ON DELETE NO ACTION,\n",
    "  FOREIGN KEY (FK_RECEITA_receitaCodigo)\n",
    "    REFERENCES RECEITA (receitaCodigo)\n",
    "    ON UPDATE NO ACTION ON DELETE NO ACTION\n",
    ");"
   ]
  },
  {
   "cell_type": "markdown",
   "metadata": {},
   "source": [
    " ### Com base no esquema apresentado acima, escreva o código SQL para inserir as seguintes informações no bando de dados."
   ]
  },
  {
   "cell_type": "markdown",
   "metadata": {},
   "source": [
    "<b> A) </b> Inserir um usuário com as seguites informações\n",
    "- Codigo: 1\n",
    "- Nome: Fulano\n",
    "- Email: f@gmail.com\n",
    "- Telefone: 9.9999-9999\n",
    "- Senha: 123456\n",
    "\n",
    "_Resposta:_"
   ]
  },
  {
   "cell_type": "code",
   "execution_count": null,
   "metadata": {},
   "outputs": [],
   "source": [
    "%%sql\n",
    "\n",
    "INSERT INTO USUARIO VALUES \n",
    "(1,'Fulano','f@gmail.com','9.9999-9999','123456');"
   ]
  },
  {
   "cell_type": "markdown",
   "metadata": {},
   "source": [
    "<b> B) </b> Inserir 3 usuários, sendo que 2 deles devem possuir os respectivos nomes, Ciclano e Beltrano. Preencha o restante das informações necessárias com dados fictícios. \n",
    "\n",
    "_Resposta:_"
   ]
  },
  {
   "cell_type": "code",
   "execution_count": null,
   "metadata": {},
   "outputs": [],
   "source": [
    "%%sql\n",
    "\n",
    "INSERT INTO USUARIO VALUES \n",
    "(2,'Ciclano','c@gmail.com','9.9999-9993','1234568'),\n",
    "(3,'Beltrano','b@gmail.com','9.9999-9994','1234569'),\n",
    "(4,'Terciano','t@gmail.com','9.9999-9992','1234567');"
   ]
  },
  {
   "cell_type": "markdown",
   "metadata": {},
   "source": [
    "<b> C) </b> Inserir as seguintes categorias de receitas: \n",
    "\n",
    "- Carnes\n",
    "- Aves\n",
    "- Peixes\n",
    "- Salada\n",
    "- Sobremesa\n",
    "- Vegana\n",
    "- Massa\n",
    "- Bolo\n",
    "- Sanduíche\n",
    "- Molho\n",
    "\n",
    "_Resposta:_"
   ]
  },
  {
   "cell_type": "code",
   "execution_count": null,
   "metadata": {},
   "outputs": [],
   "source": [
    "%%sql\n",
    "\n",
    "INSERT INTO CATEGORIA VALUES \n",
    "('Carnes'),\n",
    "('Aves'),\n",
    "('Peixes'),\n",
    "('Salada'),\n",
    "('Sobremesa'),\n",
    "('Vegana'),\n",
    "('Massa'),\n",
    "('Bolo'),\n",
    "('Sanduíche'),\n",
    "('Molho');"
   ]
  },
  {
   "cell_type": "markdown",
   "metadata": {},
   "source": [
    "<b> D) </b> Inserir 3 novas categorias de receitas.\n",
    "\n",
    "_Resposta:_"
   ]
  },
  {
   "cell_type": "code",
   "execution_count": null,
   "metadata": {},
   "outputs": [],
   "source": [
    "%%sql\n",
    "\n",
    "INSERT INTO CATEGORIA VALUES \n",
    "('CategoriaA'),\n",
    "('CategoriaB'),\n",
    "('CategoriaC');"
   ]
  },
  {
   "cell_type": "markdown",
   "metadata": {},
   "source": [
    "<b> E) </b> Inserir os seguintes ingredientes: \n",
    "\n",
    "- Alecrim\n",
    "- Alho\n",
    "- Arroz\n",
    "- Azeite\n",
    "- Batata\n",
    "- Músculo bovino \n",
    "    - Descrição: Carne de Segunda\n",
    "- Castanha\n",
    "    - Descrição: Do Pará\n",
    "- Cebola\n",
    "- Cheiro-verde\n",
    "    - Descrição: Mistura de ervas\n",
    "- Cogumelo\n",
    "- Iogurte\n",
    "    - Descrição: Natural sem açucar\n",
    "- Limão\n",
    "- Pimenta\n",
    "- Tomate\n",
    "- Vinho\n",
    "\n",
    "_Resposta:_"
   ]
  },
  {
   "cell_type": "code",
   "execution_count": null,
   "metadata": {},
   "outputs": [],
   "source": [
    "%%sql\n",
    "\n",
    "INSERT INTO INGREDIENTE VALUES \n",
    "(1,'Alecrim',NULL),\n",
    "(2,'Alho',NULL),\n",
    "(3,'Arroz',NULL),\n",
    "(4,'Azeite',NULL),\n",
    "(5,'Batata',NULL),\n",
    "(6,'Músculo bovino','Carne de Segunda'),\n",
    "(7,'Castanha','Do Pará'),\n",
    "(8,'Cebola',NULL),\n",
    "(9,'Cheiro-verde','Mistura de ervas'),\n",
    "(10,'Cogumelo',NULL),\n",
    "(11,'Iogurte','Natural sem açucar'),\n",
    "(12,'Limão',NULL),\n",
    "(13,'Pimenta',NULL),\n",
    "(14,'Tomate',NULL),\n",
    "(15,'Vinho',NULL);"
   ]
  },
  {
   "cell_type": "markdown",
   "metadata": {},
   "source": [
    "<b> F) </b> Inserir uma receita com as seguintes informações\n",
    "\n",
    "- Codigo: 1\n",
    "- Nome: Ovo cozido\n",
    "- Tempo: 10 minutos\n",
    "- Passos: \n",
    "    - Leve uma panela com água ao fogo. Quando ferver, mergulhe o ovo. Espere 7 minutos. Tire o ovo da panela e mergulhe numa tigela com água fria. Agora é só descascar e comer. Sal à gosto.\n",
    "- Ingrediente:\n",
    "    - Nome: Ovo\n",
    "    - Descrição: De galinha\n",
    "- Categoria\n",
    "    - Dia-a-dia\n",
    "- Usuario\n",
    "    - Fulano\n",
    "\n",
    "_Resposta:_"
   ]
  },
  {
   "cell_type": "code",
   "execution_count": null,
   "metadata": {},
   "outputs": [],
   "source": [
    "%%sql\n",
    "\n",
    "INSERT INTO INGREDIENTE VALUES (16,'Ovo','De galinha');\n",
    "\n",
    "INSERT INTO CATEGORIA VALUES ('Dia-a-dia');\n",
    "\n",
    "INSERT INTO RECEITA VALUES \n",
    "(1,'2020-11-22 12:30:15','10 minutos','Ovo cozido',5,'Leve uma panela com água ao fogo. Quando ferver, mergulhe o ovo. Espere 7 minutos. Tire o ovo da panela e mergulhe numa tigela com água fria. Agora é só descascar e comer. Sal à gosto.',1);\n",
    "\n",
    "INSERT INTO CATEGORIA_RECEITA VALUES ('Dia-a-dia',1);\n",
    "\n",
    "INSERT INTO INGREDIENTE_RECEITA VALUES (16,1,1);\n"
   ]
  },
  {
   "cell_type": "markdown",
   "metadata": {},
   "source": [
    "<b> G) </b> Inserir 3 receitas no banco e os seus respectivos ingredientes e categorias.\n",
    "\n",
    "_Resposta:_"
   ]
  },
  {
   "cell_type": "code",
   "execution_count": null,
   "metadata": {},
   "outputs": [],
   "source": [
    "%%sql\n",
    "\n",
    "INSERT INTO RECEITA VALUES \n",
    "(2,'2020-11-22 12:30:15','5 minutos','Ovo mexido',5,'Procure no Google',2),\n",
    "(3,'2020-11-22 12:30:15','20 minutos','Salada básica',3,'Procure no Google',3),\n",
    "(4,'2020-11-22 12:30:15','25 minutos','Risoto de músculo',4,'Procure no Google',1);\n",
    "\n",
    "INSERT INTO CATEGORIA_RECEITA VALUES \n",
    "('Dia-a-dia',2),\n",
    "('Salada',3),\n",
    "('CategoriaA',4);\n",
    "\n",
    "INSERT INTO INGREDIENTE_RECEITA VALUES \n",
    "(16,2,3),\n",
    "(1,3,1),\n",
    "(4,3,0.3),\n",
    "(8,3,0.5),\n",
    "(9,3,1),\n",
    "(12,3,1),\n",
    "(14,3,3),\n",
    "(2,4,3),\n",
    "(3,4,0.2),\n",
    "(4,4,0.05),\n",
    "(6,4,0.3);\n"
   ]
  },
  {
   "cell_type": "markdown",
   "metadata": {},
   "source": [
    "<b> H) </b> Inserir um comentário com as seguintes informações\n",
    "- Código: 1\n",
    "- Data: 12/11/2020\n",
    "- Texto: A melhor receita de ovo que já provei\n",
    "- Receita: Ovo cozido\n",
    "- Usuário: Fulano\n",
    "\n",
    "\n",
    "_Resposta:_"
   ]
  },
  {
   "cell_type": "code",
   "execution_count": null,
   "metadata": {},
   "outputs": [],
   "source": [
    "%%sql\n",
    "\n",
    "INSERT INTO COMENTARIO VALUES\n",
    "(1,'2020-11-12','A melhor receita de ovo que já provei',1,1);"
   ]
  },
  {
   "cell_type": "markdown",
   "metadata": {},
   "source": [
    "<b> I) </b> Inserir 3 comentários no banco e os seus respectivos usuários e receitas.\n",
    "\n",
    "_Resposta:_"
   ]
  },
  {
   "cell_type": "code",
   "execution_count": null,
   "metadata": {},
   "outputs": [],
   "source": [
    "%%sql\n",
    "\n",
    "INSERT INTO COMENTARIO VALUES\n",
    "(2,'2020-10-13','A melhor receita de ovo que já provei',1,1),\n",
    "(3,'2020-09-02','Não gostei',2,2),\n",
    "(4,'2020-03-17','Podia ser melhor explicado os passos!',3,2);"
   ]
  },
  {
   "cell_type": "code",
   "execution_count": null,
   "metadata": {},
   "outputs": [],
   "source": []
  }
 ],
 "metadata": {
  "kernelspec": {
   "display_name": "Python 3",
   "language": "python",
   "name": "python3"
  },
  "language_info": {
   "codemirror_mode": {
    "name": "ipython",
    "version": 3
   },
   "file_extension": ".py",
   "mimetype": "text/x-python",
   "name": "python",
   "nbconvert_exporter": "python",
   "pygments_lexer": "ipython3",
   "version": "3.7.0"
  }
 },
 "nbformat": 4,
 "nbformat_minor": 2
}
