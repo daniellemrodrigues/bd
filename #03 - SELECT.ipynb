{
 "cells": [
  {
   "cell_type": "markdown",
   "metadata": {},
   "source": [
    "# SELECT"
   ]
  },
  {
   "cell_type": "markdown",
   "metadata": {},
   "source": [
    "Antes de começar execute os comandos de configuração:"
   ]
  },
  {
   "cell_type": "code",
   "execution_count": null,
   "metadata": {},
   "outputs": [],
   "source": [
    "# NÃO ALTERE ESSA CÉLULA\n",
    "# Carregando o módulo SQL\n",
    "%load_ext sql\n",
    "# Selecionando o Banco (no caso o SQLite)\n",
    "%sql sqlite:///databases/universidade.db"
   ]
  },
  {
   "cell_type": "markdown",
   "metadata": {},
   "source": [
    "_<span style=\"color:red\">Atenção! Para possibilitar a execução dos comandos é necessário utilizar o comando mágico '%sql' ou '%%sql'.</span>_"
   ]
  },
  {
   "cell_type": "markdown",
   "metadata": {},
   "source": [
    "### Observe o seguinte esquema de uma universidade:"
   ]
  },
  {
   "cell_type": "markdown",
   "metadata": {},
   "source": [
    "<b>1. MODELO CONCEITUAL</b>\n",
    "\n",
    "<img src='images/c006.png' style=\"float: left;\" />"
   ]
  },
  {
   "cell_type": "markdown",
   "metadata": {},
   "source": [
    "<b>2. CÓDIGOS SQL</b>\n",
    "- <a href=\"./databases/DDLuniversidade.txt\" target=\"_blank\">DDL</a>\n",
    "- <a href=\"./databases/DMLuniversidade.txt\" target=\"_blank\">DML</a>"
   ]
  },
  {
   "cell_type": "markdown",
   "metadata": {},
   "source": [
    " ### Com base no esquema apresentado acima, escreva o código SQL para recuperar as seguintes informações no bando de dados."
   ]
  },
  {
   "cell_type": "markdown",
   "metadata": {},
   "source": [
    "<b> A) </b> Todas as informações de todos os departamentos\n",
    "\n",
    "_Resposta:_"
   ]
  },
  {
   "cell_type": "code",
   "execution_count": null,
   "metadata": {},
   "outputs": [],
   "source": []
  },
  {
   "cell_type": "markdown",
   "metadata": {},
   "source": [
    "<b> B) </b> Número e título de todos os projetos\n",
    "\n",
    "_Resposta:_"
   ]
  },
  {
   "cell_type": "code",
   "execution_count": null,
   "metadata": {},
   "outputs": [],
   "source": []
  },
  {
   "cell_type": "markdown",
   "metadata": {},
   "source": [
    "<b> C) </b> Nome e título dos professores com titulo de Mestre.\n",
    "\n",
    "_Resposta:_"
   ]
  },
  {
   "cell_type": "code",
   "execution_count": null,
   "metadata": {},
   "outputs": [],
   "source": []
  },
  {
   "cell_type": "markdown",
   "metadata": {},
   "source": [
    "<b> D) </b> Nome e grau dos cursos que não são de graduação.\n",
    "\n",
    "_Resposta:_"
   ]
  },
  {
   "cell_type": "code",
   "execution_count": null,
   "metadata": {},
   "outputs": [],
   "source": []
  },
  {
   "cell_type": "markdown",
   "metadata": {},
   "source": [
    "<b> E) </b> Titulo dos projetos que tiveram início no ano de 2018.\n",
    "\n",
    "_Resposta:_"
   ]
  },
  {
   "cell_type": "code",
   "execution_count": null,
   "metadata": {},
   "outputs": [],
   "source": []
  },
  {
   "cell_type": "markdown",
   "metadata": {},
   "source": [
    "<b> F) </b>Titulo dos projetos com orçamento menor do que 5000 reais ou maior do que 20000 reais.\n",
    "\n",
    "_Resposta:_"
   ]
  },
  {
   "cell_type": "code",
   "execution_count": null,
   "metadata": {},
   "outputs": [],
   "source": []
  },
  {
   "cell_type": "markdown",
   "metadata": {},
   "source": [
    "<b> G) </b> Nome dos estudantes que começam com a letra A\n",
    "\n",
    "_Resposta:_"
   ]
  },
  {
   "cell_type": "code",
   "execution_count": null,
   "metadata": {},
   "outputs": [],
   "source": []
  },
  {
   "cell_type": "markdown",
   "metadata": {},
   "source": [
    "<b> H) </b> Nome das áreas de pesquisa que contenham a palavra 'computação'.\n",
    "\n",
    "_Resposta:_"
   ]
  },
  {
   "cell_type": "code",
   "execution_count": null,
   "metadata": {},
   "outputs": [],
   "source": []
  }
 ],
 "metadata": {
  "kernelspec": {
   "display_name": "Python 3",
   "language": "python",
   "name": "python3"
  },
  "language_info": {
   "codemirror_mode": {
    "name": "ipython",
    "version": 3
   },
   "file_extension": ".py",
   "mimetype": "text/x-python",
   "name": "python",
   "nbconvert_exporter": "python",
   "pygments_lexer": "ipython3",
   "version": "3.7.0"
  }
 },
 "nbformat": 4,
 "nbformat_minor": 2
}
