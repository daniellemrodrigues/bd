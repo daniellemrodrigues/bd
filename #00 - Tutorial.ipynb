{
 "cells": [
  {
   "cell_type": "markdown",
   "metadata": {},
   "source": [
    "# Tutorial Jupyter + SQL"
   ]
  },
  {
   "cell_type": "markdown",
   "metadata": {},
   "source": [
    "O objetivo aque é mostrar como você pode utilizar os Notebooks para exercitar os seus conhecimentos em SQL."
   ]
  },
  {
   "cell_type": "markdown",
   "metadata": {},
   "source": [
    "### 1º Execute os comandos de configuração\n",
    "Selecione a célula abaixo e pressione \"Shift+Enter\" ou clique no ícone \"Run\" (ao lado da célula ou no cabeçalho do notebook)."
   ]
  },
  {
   "cell_type": "code",
   "execution_count": null,
   "metadata": {},
   "outputs": [],
   "source": [
    "# Carregando o módulo SQL\n",
    "%load_ext sql\n",
    "# Selecionando o Banco (no caso o SQLite)\n",
    "%sql sqlite://"
   ]
  },
  {
   "cell_type": "markdown",
   "metadata": {},
   "source": [
    "Para possibilitar a execução dos comandos é necessário utilizar o comando mágico '%sql' ou '%%sql'."
   ]
  },
  {
   "cell_type": "markdown",
   "metadata": {},
   "source": [
    "### 2º Execute o código SQL"
   ]
  },
  {
   "cell_type": "markdown",
   "metadata": {},
   "source": [
    "Escreva o seu código SQL e execute as células para ver os resultados.\n",
    "\n",
    "Abaixo segue um exemplo. Execute as células na ordem proposta e veja o resultado. "
   ]
  },
  {
   "cell_type": "markdown",
   "metadata": {},
   "source": [
    "<b>A) Criando uma tabela</b>"
   ]
  },
  {
   "cell_type": "code",
   "execution_count": null,
   "metadata": {},
   "outputs": [],
   "source": [
    "%%sql   \n",
    "CREATE TABLE funcionario (\n",
    "    codigo INTEGER,\n",
    "    nome VARCHAR(64),\n",
    "    email VARCHAR(64),\n",
    "    senha VARCHAR(32),\n",
    "    PRIMARY KEY (codigo)\n",
    "); "
   ]
  },
  {
   "cell_type": "markdown",
   "metadata": {},
   "source": [
    "<b>B) Inserindo dados na tabela</b>"
   ]
  },
  {
   "cell_type": "code",
   "execution_count": null,
   "metadata": {},
   "outputs": [],
   "source": [
    "%%sql\n",
    "INSERT INTO funcionario VALUES\n",
    "(1,'Fulano', 'f@gmail.com','123'),\n",
    "(2,'Ciclano', 'c@gmail.com','231'),\n",
    "(3,'Beltrano', 'b@gmail.com','312');"
   ]
  },
  {
   "cell_type": "markdown",
   "metadata": {},
   "source": [
    "<b>C) Recuperando informações da tabela</b>"
   ]
  },
  {
   "cell_type": "code",
   "execution_count": null,
   "metadata": {},
   "outputs": [],
   "source": [
    "%sql SELECT nome, email FROM funcionario;"
   ]
  },
  {
   "cell_type": "markdown",
   "metadata": {},
   "source": [
    "## Fim! &#128521;\n"
   ]
  },
  {
   "cell_type": "markdown",
   "metadata": {},
   "source": [
    "E agora? \n",
    "\n",
    "A partir dessa estrutura é possível que você crie o seu próprio Notebook.\n",
    "\n",
    "No cabeçalho existem opções para criar novas células, recortar, copiar, colar, etc... E essas células podem ser de código (Code) ou de texto (Markdown)."
   ]
  },
  {
   "cell_type": "markdown",
   "metadata": {},
   "source": [
    "Coloquei outros nobebooks com exercícios para que você Exercite SQL!"
   ]
  }
 ],
 "metadata": {
  "kernelspec": {
   "display_name": "Python 3",
   "language": "python",
   "name": "python3"
  },
  "language_info": {
   "codemirror_mode": {
    "name": "ipython",
    "version": 3
   },
   "file_extension": ".py",
   "mimetype": "text/x-python",
   "name": "python",
   "nbconvert_exporter": "python",
   "pygments_lexer": "ipython3",
   "version": "3.7.0"
  }
 },
 "nbformat": 4,
 "nbformat_minor": 2
}
