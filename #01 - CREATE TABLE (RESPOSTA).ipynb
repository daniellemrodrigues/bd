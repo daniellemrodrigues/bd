{
 "cells": [
  {
   "cell_type": "markdown",
   "metadata": {},
   "source": [
    "# CREATE TABLE"
   ]
  },
  {
   "cell_type": "markdown",
   "metadata": {},
   "source": [
    "Antes de começar execute os comandos de configuração:"
   ]
  },
  {
   "cell_type": "code",
   "execution_count": 1,
   "metadata": {},
   "outputs": [],
   "source": [
    "# NÃO ALTERE ESSA CÉLULA\n",
    "# Carregando o módulo SQL\n",
    "%load_ext sql\n",
    "# Selecionando o Banco (no caso o SQLite)\n",
    "%sql sqlite://"
   ]
  },
  {
   "cell_type": "markdown",
   "metadata": {},
   "source": [
    "_<span style=\"color:red\">Atenção! Para possibilitar a execução dos comandos é necessário utilizar o comando mágico '%sql' ou '%%sql'.</span>_"
   ]
  },
  {
   "cell_type": "markdown",
   "metadata": {},
   "source": [
    "### Escreva abaixo o código SQL para criar as tabelas dos respectivos esquemas: "
   ]
  },
  {
   "cell_type": "markdown",
   "metadata": {},
   "source": [
    "<b> A) </b> Pessoa(nome, sobrenome)\n",
    "\n",
    "_Resposta:_"
   ]
  },
  {
   "cell_type": "code",
   "execution_count": 2,
   "metadata": {},
   "outputs": [
    {
     "name": "stdout",
     "output_type": "stream",
     "text": [
      " * sqlite://\n",
      "Done.\n"
     ]
    },
    {
     "data": {
      "text/plain": [
       "[]"
      ]
     },
     "execution_count": 2,
     "metadata": {},
     "output_type": "execute_result"
    }
   ],
   "source": [
    "%%sql\n",
    "\n",
    "CREATE TABLE PESSOA (\n",
    "    nome VARCHAR(32),\n",
    "    sobrenome VARCHAR(32)\n",
    ");"
   ]
  },
  {
   "cell_type": "markdown",
   "metadata": {},
   "source": [
    "<b> B) </b> Usuário\n",
    "\n",
    "<img src='images/c001.png' style=\"float: left;\" />"
   ]
  },
  {
   "cell_type": "code",
   "execution_count": 3,
   "metadata": {},
   "outputs": [
    {
     "name": "stdout",
     "output_type": "stream",
     "text": [
      " * sqlite://\n",
      "Done.\n"
     ]
    },
    {
     "data": {
      "text/plain": [
       "[]"
      ]
     },
     "execution_count": 3,
     "metadata": {},
     "output_type": "execute_result"
    }
   ],
   "source": [
    "%%sql\n",
    "\n",
    "CREATE TABLE USUARIO (\n",
    "    codigo INTEGER PRIMARY KEY,\n",
    "    nome VARCHAR(32),\n",
    "    data_nascimento DATE\n",
    ");"
   ]
  },
  {
   "cell_type": "markdown",
   "metadata": {},
   "source": [
    "<b> C) </b> Paciente\n",
    "\n",
    "<small>\n",
    "    Observações:\n",
    "    <ul>\n",
    "        <li>Os campos da tabela não podem ser NULL </li>\n",
    "    </ul>\n",
    "</small>\n",
    "<img src='images/l001.png' style=\"float: left;\" />"
   ]
  },
  {
   "cell_type": "code",
   "execution_count": 4,
   "metadata": {},
   "outputs": [
    {
     "name": "stdout",
     "output_type": "stream",
     "text": [
      " * sqlite://\n",
      "Done.\n"
     ]
    },
    {
     "data": {
      "text/plain": [
       "[]"
      ]
     },
     "execution_count": 4,
     "metadata": {},
     "output_type": "execute_result"
    }
   ],
   "source": [
    "%%sql\n",
    "\n",
    "CREATE TABLE PACIENTE (\n",
    "    codigo INTEGER PRIMARY KEY,\n",
    "    nome VARCHAR(32),\n",
    "    data_nascimento DATE,\n",
    "    plano VARCHAR(16)\n",
    ");"
   ]
  },
  {
   "cell_type": "markdown",
   "metadata": {},
   "source": [
    "<b> D) </b> Locadora\n",
    "\n",
    "<small>\n",
    "    Observações:\n",
    "    <ul>\n",
    "        <li>Nenhum campo do esquema pode ser NULL  </li>\n",
    "        <li>O campo placa da tabela CARRO deve ser único</li>\n",
    "    </ul>\n",
    "</small>\n",
    "\n",
    "<img src='images/l002.png' style=\"float: left;\" />"
   ]
  },
  {
   "cell_type": "code",
   "execution_count": 5,
   "metadata": {},
   "outputs": [
    {
     "name": "stdout",
     "output_type": "stream",
     "text": [
      " * sqlite://\n",
      "Done.\n",
      "Done.\n"
     ]
    },
    {
     "data": {
      "text/plain": [
       "[]"
      ]
     },
     "execution_count": 5,
     "metadata": {},
     "output_type": "execute_result"
    }
   ],
   "source": [
    "%%sql\n",
    "\n",
    "CREATE TABLE CLIENTE (\n",
    "    id INTEGER PRIMARY KEY,\n",
    "    nome VARCHAR(32)\n",
    ");\n",
    "\n",
    "CREATE TABLE CARRO (\n",
    "    codigo INTEGER PRIMARY KEY,\n",
    "    placa VARCHAR(16),\n",
    "    modelo VARCHAR(32),\n",
    "    marca VARCHAR(32),\n",
    "    ano_fabricacao NUMERIC,\n",
    "    preco FLOAT,\n",
    "    FK_CLIENTE_id INTEGER,\n",
    "    FOREIGN KEY (FK_CLIENTE_id)\n",
    "        REFERENCES CLIENTE (id)\n",
    "            ON DELETE NO ACTION\n",
    "            ON UPDATE CASCADE\n",
    ");"
   ]
  },
  {
   "cell_type": "markdown",
   "metadata": {},
   "source": [
    "<b> E) </b> Receitas\n",
    "\n",
    "<small>\n",
    "    Observações:\n",
    "    <ul>\n",
    "        <li>Defina um valor padrão para o campo <i>produto_custo</i></li>\n",
    "    </ul>\n",
    "</small>\n",
    "\n",
    "<img src='images/c002.png' style=\"float: left;\" />"
   ]
  },
  {
   "cell_type": "code",
   "execution_count": 6,
   "metadata": {},
   "outputs": [
    {
     "name": "stdout",
     "output_type": "stream",
     "text": [
      " * sqlite://\n",
      "Done.\n",
      "Done.\n",
      "Done.\n"
     ]
    },
    {
     "data": {
      "text/plain": [
       "[]"
      ]
     },
     "execution_count": 6,
     "metadata": {},
     "output_type": "execute_result"
    }
   ],
   "source": [
    "%%sql\n",
    "\n",
    "CREATE TABLE PRODUTO (\n",
    "    produto_codigo VARCHAR(8) PRIMARY KEY,\n",
    "    produto_nome VARCHAR(32),\n",
    "    produto_custo FLOAT\n",
    ");\n",
    "\n",
    "CREATE TABLE RECEITA (\n",
    "    receita_codigo VARCHAR(8) PRIMARY KEY,\n",
    "    receita_nome VARCHAR(32),\n",
    "    receita_data DATE,\n",
    "    receita_tipo VARCHAR(16)\n",
    ");\n",
    "\n",
    "\n",
    "CREATE TABLE INGREDIENTE (\n",
    "    FK_PRODUTO_produto_codigo VARCHAR(8),\n",
    "    FK_RECEITA_receita_codigo VARCHAR(8),\n",
    "    quantidade FLOAT,\n",
    "    PRIMARY KEY (FK_PRODUTO_produto_codigo, FK_RECEITA_receita_codigo),\n",
    "    FOREIGN KEY (FK_PRODUTO_produto_codigo)\n",
    "        REFERENCES PRODUTO (produto_codigo)\n",
    "            ON DELETE NO ACTION\n",
    "            ON UPDATE CASCADE,\n",
    "    FOREIGN KEY (FK_RECEITA_receita_codigo)\n",
    "        REFERENCES RECEITA (receita_codigo)\n",
    "            ON DELETE NO ACTION\n",
    "            ON UPDATE CASCADE\n",
    ");"
   ]
  },
  {
   "cell_type": "markdown",
   "metadata": {},
   "source": [
    "<b> F) </b> Livraria\n",
    "\n",
    "<small>\n",
    "    Observações:\n",
    "    <ul>\n",
    "        <li>Defina as ações integridade referencial da chave estrangeira</li>\n",
    "    </ul>\n",
    "</small>\n",
    "<img src='images/c003.png' style=\"float: left;\" />"
   ]
  },
  {
   "cell_type": "code",
   "execution_count": 7,
   "metadata": {},
   "outputs": [
    {
     "name": "stdout",
     "output_type": "stream",
     "text": [
      " * sqlite://\n",
      "Done.\n",
      "Done.\n",
      "Done.\n",
      "Done.\n"
     ]
    },
    {
     "data": {
      "text/plain": [
       "[]"
      ]
     },
     "execution_count": 7,
     "metadata": {},
     "output_type": "execute_result"
    }
   ],
   "source": [
    "%%sql\n",
    "\n",
    "CREATE TABLE LEITOR (\n",
    "    leitorCodigo VARCHAR(16) PRIMARY KEY,\n",
    "    leitorNome VARCHAR(32),\n",
    "    leitorTelefone VARCHAR(32),\n",
    "    leitorEndereco TEXT,\n",
    "    leitorCPF VARCHAR(16),\n",
    "    leitorEmail VARCHAR(32),\n",
    "    leitorSenha VARCHAR(32)\n",
    ");\n",
    "\n",
    "CREATE TABLE COMPRA (\n",
    "    compraCodigo VARCHAR(16) PRIMARY KEY,\n",
    "    compraData DATE,\n",
    "    comparaValor FLOAT,\n",
    "    FK_CLIENTE_leitorCodigo VARCHAR(16),\n",
    "    FOREIGN KEY (FK_CLIENTE_leitorCodigo)\n",
    "        REFERENCES CLIENTE (leitorCodigo)\n",
    "            ON DELETE NO ACTION\n",
    "            ON UPDATE CASCADE\n",
    ");\n",
    "\n",
    "CREATE TABLE LIVRO (\n",
    "    livroISBN VARCHAR(32) PRIMARY KEY,\n",
    "    livroAssunto VARCHAR(64),\n",
    "    livroAutor VARCHAR(32),\n",
    "    livroTitulo VARCHAR(128),\n",
    "    livroPreco FLOAT\n",
    ");\n",
    "\n",
    "CREATE TABLE PEDIDO (\n",
    "    FK_LIVRO_livroISBN VARCHAR(32),\n",
    "    FK_COMPRA_compraCodigo VARCHAR(16),\n",
    "    PRIMARY KEY (FK_LIVRO_livroISBN, FK_COMPRA_compraCodigo),\n",
    "    FOREIGN KEY (FK_LIVRO_livroISBN)\n",
    "        REFERENCES LIVRO (livroISBN)\n",
    "            ON DELETE NO ACTION\n",
    "            ON UPDATE CASCADE,\n",
    "    FOREIGN KEY (FK_COMPRA_compraCodigo)\n",
    "        REFERENCES COMPRA (compraCodigo)\n",
    "            ON DELETE NO ACTION\n",
    "            ON UPDATE CASCADE\n",
    ");\n"
   ]
  },
  {
   "cell_type": "markdown",
   "metadata": {},
   "source": [
    "<b> G) </b> Disciplina\n",
    "\n",
    "<small>\n",
    "    Observações:\n",
    "    <ul>\n",
    "        <li>Defina as ações integridade referencial da chave estrangeira</li>\n",
    "        <li>O codigo das disciplinas deve ser definido com um auto incremento inteiro</li>\n",
    "    </ul>\n",
    "</small>\n",
    "<img src='images/c004.png' style=\"float: left;\" />"
   ]
  },
  {
   "cell_type": "code",
   "execution_count": 3,
   "metadata": {},
   "outputs": [
    {
     "name": "stdout",
     "output_type": "stream",
     "text": [
      " * sqlite://\n",
      "Done.\n",
      "Done.\n"
     ]
    },
    {
     "data": {
      "text/plain": [
       "[]"
      ]
     },
     "execution_count": 3,
     "metadata": {},
     "output_type": "execute_result"
    }
   ],
   "source": [
    "%%sql \n",
    "\n",
    "CREATE TABLE DISCIPLINA (\n",
    "    codigo INTERGER AUTO_INCREMENT PRIMARY KEY,\n",
    "    nome VARCHAR(16),\n",
    "    creditos INTEGER\n",
    ");\n",
    "\n",
    "CREATE TABLE PRE_REQUISITO (\n",
    "    FK_DISCIPLINA_codigo INTEGER,\n",
    "    FK_DISCIPLINA_codigo_PR INTEGER,\n",
    "    PRIMARY KEY (FK_DISCIPLINA_codigo, FK_DISCIPLINA_codigo_PR),\n",
    "    FOREIGN KEY (FK_DISCIPLINA_codigo)\n",
    "        REFERENCES DISCIPLINA (codigo)\n",
    "            ON DELETE CASCADE\n",
    "            ON UPDATE CASCADE,\n",
    "    FOREIGN KEY (FK_DISCIPLINA_codigo_PR)\n",
    "        REFERENCES DISCIPLINA (codigo)\n",
    "            ON DELETE CASCADE\n",
    "            ON UPDATE CASCADE\n",
    ");"
   ]
  },
  {
   "cell_type": "markdown",
   "metadata": {},
   "source": [
    "<b> H) </b> Empresa\n",
    "\n",
    "<small>\n",
    "    Observações:\n",
    "    <ul>\n",
    "        <li>Defina quais os campos, na sua opinião, não podem ser NULL</li>\n",
    "        <li>Defina quais os campos, na sua opinião, devem ser únicos</li>\n",
    "        <li>Defina quais os campos, na sua opinião, devem possuir um valor padrão</li>\n",
    "        <li>Defina as ações integridade referencial da chave estrangeira</li>\n",
    "    </ul>\n",
    "</small>\n",
    "<img src='images/l003.png' style=\"float: left;\" />"
   ]
  },
  {
   "cell_type": "code",
   "execution_count": 9,
   "metadata": {},
   "outputs": [
    {
     "name": "stdout",
     "output_type": "stream",
     "text": [
      " * sqlite://\n",
      "Done.\n",
      "Done.\n",
      "Done.\n",
      "Done.\n"
     ]
    },
    {
     "data": {
      "text/plain": [
       "[]"
      ]
     },
     "execution_count": 9,
     "metadata": {},
     "output_type": "execute_result"
    }
   ],
   "source": [
    "%%sql\n",
    "\n",
    "CREATE TABLE FUNCIONARIO (\n",
    "    funcionarioCodigo VARCHAR(8) PRIMARY KEY,\n",
    "    funcionarioNome VARCHAR(32),\n",
    "    funcionarioSalario FLOAT,\n",
    "    funcionarioTelefone VARCHAR(16),\n",
    "    funcionarioContratacao DATE\n",
    ");\n",
    "\n",
    "CREATE TABLE DEPARTAMENTO (\n",
    "    departamentoCodigo VARCHAR(8) PRIMARY KEY,\n",
    "    departamentoOrcamento FLOAT,\n",
    "    departamentoNome VARCHAR(16),\n",
    "    FK_FUNCIONARIO_funcionarioCodigo VARCHAR(8),\n",
    "    FOREIGN KEY (FK_FUNCIONARIO_funcionarioCodigo)\n",
    "        REFERENCES FUNCIONARIO (funcionarioCodigo)\n",
    "            ON DELETE NO ACTION\n",
    "            ON UPDATE CASCADE\n",
    ");\n",
    "\n",
    "CREATE TABLE DEPENDENTE (\n",
    "    filhoCPF VARCHAR(16) PRIMARY KEY,\n",
    "    filhoNome VARCHAR(32),\n",
    "    filhoIdade INTEGER,\n",
    "    FK_FUNCIONARIO_funcionarioCodigo VARCHAR(8),\n",
    "    FOREIGN KEY (FK_FUNCIONARIO_funcionarioCodigo)\n",
    "        REFERENCES FUNCIONARIO (funcionarioCodigo)\n",
    "            ON DELETE CASCADE\n",
    "            ON UPDATE CASCADE\n",
    ");\n",
    "\n",
    "CREATE TABLE LOCAL_TRABALHO (\n",
    "    FK_DEPARTAMENTO_departamentoCodigo VARCHAR(8),\n",
    "    FK_FUNCIONARIO_funcionarioCodigo VARCHAR(8),\n",
    "    cargaHoraria INTEGER,\n",
    "    PRIMARY KEY (FK_FUNCIONARIO_funcionarioCodigo, FK_DEPARTAMENTO_departamentoCodigo),\n",
    "    FOREIGN KEY (FK_FUNCIONARIO_funcionarioCodigo)\n",
    "        REFERENCES FUNCIONARIO (funcionarioCodigo)\n",
    "            ON DELETE NO ACTION\n",
    "            ON UPDATE CASCADE,\n",
    "    FOREIGN KEY (FK_DEPARTAMENTO_departamentoCodigo)\n",
    "        REFERENCES DEPARTAMENTO (departamentoCodigo)\n",
    "            ON DELETE NO ACTION\n",
    "            ON UPDATE CASCADE\n",
    ");"
   ]
  },
  {
   "cell_type": "code",
   "execution_count": null,
   "metadata": {},
   "outputs": [],
   "source": []
  }
 ],
 "metadata": {
  "kernelspec": {
   "display_name": "Python 3",
   "language": "python",
   "name": "python3"
  },
  "language_info": {
   "codemirror_mode": {
    "name": "ipython",
    "version": 3
   },
   "file_extension": ".py",
   "mimetype": "text/x-python",
   "name": "python",
   "nbconvert_exporter": "python",
   "pygments_lexer": "ipython3",
   "version": "3.7.0"
  }
 },
 "nbformat": 4,
 "nbformat_minor": 2
}
