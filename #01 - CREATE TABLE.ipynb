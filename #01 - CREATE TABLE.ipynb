{
 "cells": [
  {
   "cell_type": "markdown",
   "metadata": {},
   "source": [
    "# CREATE TABLE"
   ]
  },
  {
   "cell_type": "markdown",
   "metadata": {},
   "source": [
    "Antes de começar execute os comandos de configuração:"
   ]
  },
  {
   "cell_type": "code",
   "execution_count": null,
   "metadata": {},
   "outputs": [],
   "source": [
    "# NÃO ALTERE ESSA CÉLULA\n",
    "# Carregando o módulo SQL\n",
    "%load_ext sql\n",
    "# Selecionando o Banco (no caso o SQLite)\n",
    "%sql sqlite://"
   ]
  },
  {
   "cell_type": "markdown",
   "metadata": {},
   "source": [
    "_<span style=\"color:red\">Atenção! Para possibilitar a execução dos comandos é necessário utilizar o comando mágico '%sql' ou '%%sql'.</span>_"
   ]
  },
  {
   "cell_type": "markdown",
   "metadata": {},
   "source": [
    "### Escreva abaixo o código SQL para criar as tabelas dos respectivos esquemas: "
   ]
  },
  {
   "cell_type": "markdown",
   "metadata": {},
   "source": [
    "<b> A) </b> Pessoa(nome, sobrenome)\n",
    "\n",
    "_Resposta:_"
   ]
  },
  {
   "cell_type": "code",
   "execution_count": null,
   "metadata": {},
   "outputs": [],
   "source": []
  },
  {
   "cell_type": "markdown",
   "metadata": {},
   "source": [
    "<b> B) </b> Usuário\n",
    "\n",
    "<img src='images/c001.png' style=\"float: left;\" />"
   ]
  },
  {
   "cell_type": "code",
   "execution_count": null,
   "metadata": {},
   "outputs": [],
   "source": []
  },
  {
   "cell_type": "markdown",
   "metadata": {},
   "source": [
    "<b> C) </b> Paciente\n",
    "\n",
    "<small>\n",
    "    Observações:\n",
    "    <ul>\n",
    "        <li>Os campos da tabela não podem ser NULL </li>\n",
    "    </ul>\n",
    "</small>\n",
    "<img src='images/l001.png' style=\"float: left;\" />"
   ]
  },
  {
   "cell_type": "code",
   "execution_count": null,
   "metadata": {},
   "outputs": [],
   "source": []
  },
  {
   "cell_type": "markdown",
   "metadata": {},
   "source": [
    "<b> D) </b> Locadora\n",
    "\n",
    "<small>\n",
    "    Observações:\n",
    "    <ul>\n",
    "        <li>Nenhum campo do esquema pode ser NULL  </li>\n",
    "        <li>O campo placa da tabela CARRO deve ser único</li>\n",
    "    </ul>\n",
    "</small>\n",
    "\n",
    "<img src='images/l002.png' style=\"float: left;\" />"
   ]
  },
  {
   "cell_type": "code",
   "execution_count": null,
   "metadata": {},
   "outputs": [],
   "source": []
  },
  {
   "cell_type": "markdown",
   "metadata": {},
   "source": [
    "<b> E) </b> Receitas\n",
    "\n",
    "<small>\n",
    "    Observações:\n",
    "    <ul>\n",
    "        <li>Defina um valor padrão para o campo <i>produto_custo</i></li>\n",
    "    </ul>\n",
    "</small>\n",
    "\n",
    "<img src='images/c002.png' style=\"float: left;\" />"
   ]
  },
  {
   "cell_type": "code",
   "execution_count": null,
   "metadata": {},
   "outputs": [],
   "source": []
  },
  {
   "cell_type": "markdown",
   "metadata": {},
   "source": [
    "<b> F) </b> Livraria\n",
    "\n",
    "<small>\n",
    "    Observações:\n",
    "    <ul>\n",
    "        <li>Defina as ações integridade referencial da chave estrangeira</li>\n",
    "    </ul>\n",
    "</small>\n",
    "<img src='images/c003.png' style=\"float: left;\" />"
   ]
  },
  {
   "cell_type": "code",
   "execution_count": null,
   "metadata": {},
   "outputs": [],
   "source": []
  },
  {
   "cell_type": "markdown",
   "metadata": {},
   "source": [
    "<b> G) </b> Disciplina\n",
    "\n",
    "<small>\n",
    "    Observações:\n",
    "    <ul>\n",
    "        <li>Defina as ações integridade referencial da chave estrangeira</li>\n",
    "        <li>O codigo das disciplinas deve ser definido com um auto incremento inteiro</li>\n",
    "    </ul>\n",
    "</small>\n",
    "<img src='images/c004.png' style=\"float: left;\" />"
   ]
  },
  {
   "cell_type": "code",
   "execution_count": null,
   "metadata": {},
   "outputs": [],
   "source": []
  },
  {
   "cell_type": "markdown",
   "metadata": {},
   "source": [
    "<b> H) </b> Empresa\n",
    "\n",
    "<small>\n",
    "    Observações:\n",
    "    <ul>\n",
    "        <li>Defina quais os campos, na sua opinião, não podem ser NULL</li>\n",
    "        <li>Defina quais os campos, na sua opinião, devem ser únicos</li>\n",
    "        <li>Defina quais os campos, na sua opinião, devem possuir um valor padrão</li>\n",
    "        <li>Defina as ações integridade referencial da chave estrangeira</li>\n",
    "    </ul>\n",
    "</small>\n",
    "<img src='images/l003.png' style=\"float: left;\" />"
   ]
  },
  {
   "cell_type": "code",
   "execution_count": null,
   "metadata": {},
   "outputs": [],
   "source": []
  }
 ],
 "metadata": {
  "kernelspec": {
   "display_name": "Python 3",
   "language": "python",
   "name": "python3"
  },
  "language_info": {
   "codemirror_mode": {
    "name": "ipython",
    "version": 3
   },
   "file_extension": ".py",
   "mimetype": "text/x-python",
   "name": "python",
   "nbconvert_exporter": "python",
   "pygments_lexer": "ipython3",
   "version": "3.7.0"
  }
 },
 "nbformat": 4,
 "nbformat_minor": 2
}
