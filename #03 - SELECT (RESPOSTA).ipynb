{
 "cells": [
  {
   "cell_type": "markdown",
   "metadata": {},
   "source": [
    "# SELECT"
   ]
  },
  {
   "cell_type": "markdown",
   "metadata": {},
   "source": [
    "Antes de começar execute os comandos de configuração:"
   ]
  },
  {
   "cell_type": "code",
   "execution_count": 1,
   "metadata": {},
   "outputs": [],
   "source": [
    "# NÃO ALTERE ESSA CÉLULA\n",
    "# Carregando o módulo SQL\n",
    "%load_ext sql\n",
    "# Selecionando o Banco (no caso o SQLite)\n",
    "%sql sqlite:///databases/universidade.db"
   ]
  },
  {
   "cell_type": "markdown",
   "metadata": {},
   "source": [
    "_<span style=\"color:red\">Atenção! Para possibilitar a execução dos comandos é necessário utilizar o comando mágico '%sql' ou '%%sql'.</span>_"
   ]
  },
  {
   "cell_type": "markdown",
   "metadata": {},
   "source": [
    "### Observe o seguinte esquema de uma universidade:"
   ]
  },
  {
   "cell_type": "markdown",
   "metadata": {},
   "source": [
    "<b>1. MODELO CONCEITUAL</b>\n",
    "\n",
    "<img src='images/c006.png' style=\"float: left;\" />"
   ]
  },
  {
   "cell_type": "markdown",
   "metadata": {},
   "source": [
    "<b>2. CÓDIGOS SQL</b>\n",
    "- <a href=\"./databases/DDLuniversidade.txt\" target=\"_blank\">DDL</a>\n",
    "- <a href=\"./databases/DMLuniversidade.txt\" target=\"_blank\">DML</a>"
   ]
  },
  {
   "cell_type": "markdown",
   "metadata": {},
   "source": [
    " ### Com base no esquema apresentado acima, escreva o código SQL para recuperar as seguintes informações no bando de dados."
   ]
  },
  {
   "cell_type": "markdown",
   "metadata": {},
   "source": [
    "<b> A) </b> Todas as informações de todos os departamentos\n",
    "\n",
    "_Resposta:_"
   ]
  },
  {
   "cell_type": "code",
   "execution_count": 2,
   "metadata": {},
   "outputs": [
    {
     "name": "stdout",
     "output_type": "stream",
     "text": [
      " * sqlite:///databases/universidade.db\n",
      "Done.\n"
     ]
    },
    {
     "data": {
      "text/html": [
       "<table>\n",
       "    <tr>\n",
       "        <th>departamentoCodigo</th>\n",
       "        <th>departamentoNome</th>\n",
       "        <th>departamentoSalaNumero</th>\n",
       "        <th>FK_PROFESSOR_professorMatricula</th>\n",
       "    </tr>\n",
       "    <tr>\n",
       "        <td>d001</td>\n",
       "        <td>Exatas</td>\n",
       "        <td>1203</td>\n",
       "        <td>p023</td>\n",
       "    </tr>\n",
       "    <tr>\n",
       "        <td>d002</td>\n",
       "        <td>Humanas</td>\n",
       "        <td>1220</td>\n",
       "        <td>p0234</td>\n",
       "    </tr>\n",
       "    <tr>\n",
       "        <td>d005</td>\n",
       "        <td>Computação</td>\n",
       "        <td>1271</td>\n",
       "        <td>p025</td>\n",
       "    </tr>\n",
       "    <tr>\n",
       "        <td>d009</td>\n",
       "        <td>Biológicas</td>\n",
       "        <td>1339</td>\n",
       "        <td>p037</td>\n",
       "    </tr>\n",
       "</table>"
      ],
      "text/plain": [
       "[('d001', 'Exatas', 1203, 'p023'),\n",
       " ('d002', 'Humanas', 1220, 'p0234'),\n",
       " ('d005', 'Computação', 1271, 'p025'),\n",
       " ('d009', 'Biológicas', 1339, 'p037')]"
      ]
     },
     "execution_count": 2,
     "metadata": {},
     "output_type": "execute_result"
    }
   ],
   "source": [
    "%sql SELECT * FROM departamento;"
   ]
  },
  {
   "cell_type": "markdown",
   "metadata": {},
   "source": [
    "<b> B) </b> Número e título de todos os projetos\n",
    "\n",
    "_Resposta:_"
   ]
  },
  {
   "cell_type": "code",
   "execution_count": 3,
   "metadata": {},
   "outputs": [
    {
     "name": "stdout",
     "output_type": "stream",
     "text": [
      " * sqlite:///databases/universidade.db\n",
      "Done.\n"
     ]
    },
    {
     "data": {
      "text/html": [
       "<table>\n",
       "    <tr>\n",
       "        <th>projetoNumero</th>\n",
       "        <th>projetoTitulo</th>\n",
       "    </tr>\n",
       "    <tr>\n",
       "        <td>969</td>\n",
       "        <td>Projeto Biologia e sociedade</td>\n",
       "    </tr>\n",
       "    <tr>\n",
       "        <td>1248</td>\n",
       "        <td>Projeto Ciência exata e humana</td>\n",
       "    </tr>\n",
       "    <tr>\n",
       "        <td>1093</td>\n",
       "        <td>Projeto Ciências e a Cidade</td>\n",
       "    </tr>\n",
       "    <tr>\n",
       "        <td>1062</td>\n",
       "        <td>Projeto Computação Futuro</td>\n",
       "    </tr>\n",
       "    <tr>\n",
       "        <td>1000</td>\n",
       "        <td>Projeto Computação e atualidades</td>\n",
       "    </tr>\n",
       "    <tr>\n",
       "        <td>1310</td>\n",
       "        <td>Projeto Computação e natureza</td>\n",
       "    </tr>\n",
       "    <tr>\n",
       "        <td>938</td>\n",
       "        <td>Projeto Computação em sociedade</td>\n",
       "    </tr>\n",
       "    <tr>\n",
       "        <td>1279</td>\n",
       "        <td>Projeto Computação estatística</td>\n",
       "    </tr>\n",
       "    <tr>\n",
       "        <td>1186</td>\n",
       "        <td>Projeto Computação humana</td>\n",
       "    </tr>\n",
       "    <tr>\n",
       "        <td>1217</td>\n",
       "        <td>Projeto Computação para ensino de exatas</td>\n",
       "    </tr>\n",
       "    <tr>\n",
       "        <td>1031</td>\n",
       "        <td>Projeto Deitos Humanos Justos</td>\n",
       "    </tr>\n",
       "    <tr>\n",
       "        <td>876</td>\n",
       "        <td>Projeto Extatas para a sociedade</td>\n",
       "    </tr>\n",
       "    <tr>\n",
       "        <td>907</td>\n",
       "        <td>Projeto História em ação</td>\n",
       "    </tr>\n",
       "    <tr>\n",
       "        <td>1155</td>\n",
       "        <td>Projeto Humanos em ação</td>\n",
       "    </tr>\n",
       "    <tr>\n",
       "        <td>1124</td>\n",
       "        <td>Projeto Informática na zona rural</td>\n",
       "    </tr>\n",
       "</table>"
      ],
      "text/plain": [
       "[(969, 'Projeto Biologia e sociedade'),\n",
       " (1248, 'Projeto Ciência exata e humana'),\n",
       " (1093, 'Projeto Ciências e a Cidade'),\n",
       " (1062, 'Projeto Computação Futuro'),\n",
       " (1000, 'Projeto Computação e atualidades'),\n",
       " (1310, 'Projeto Computação e natureza'),\n",
       " (938, 'Projeto Computação em sociedade'),\n",
       " (1279, 'Projeto Computação estatística'),\n",
       " (1186, 'Projeto Computação humana'),\n",
       " (1217, 'Projeto Computação para ensino de exatas'),\n",
       " (1031, 'Projeto Deitos Humanos Justos'),\n",
       " (876, 'Projeto Extatas para a sociedade'),\n",
       " (907, 'Projeto História em ação'),\n",
       " (1155, 'Projeto Humanos em ação'),\n",
       " (1124, 'Projeto Informática na zona rural')]"
      ]
     },
     "execution_count": 3,
     "metadata": {},
     "output_type": "execute_result"
    }
   ],
   "source": [
    "%sql SELECT projetoNumero, projetoTitulo FROM projeto;"
   ]
  },
  {
   "cell_type": "markdown",
   "metadata": {},
   "source": [
    "<b> C) </b> Nome e título dos professores com titulo de Mestre.\n",
    "\n",
    "_Resposta:_"
   ]
  },
  {
   "cell_type": "code",
   "execution_count": 4,
   "metadata": {},
   "outputs": [
    {
     "name": "stdout",
     "output_type": "stream",
     "text": [
      " * sqlite:///databases/universidade.db\n",
      "Done.\n"
     ]
    },
    {
     "data": {
      "text/html": [
       "<table>\n",
       "    <tr>\n",
       "        <th>professorNome</th>\n",
       "        <th>professorTitulo</th>\n",
       "    </tr>\n",
       "    <tr>\n",
       "        <td>Aisha Vinhas Castelo</td>\n",
       "        <td>Mestre</td>\n",
       "    </tr>\n",
       "    <tr>\n",
       "        <td>Abel Pestana Murtinho</td>\n",
       "        <td>Mestre</td>\n",
       "    </tr>\n",
       "    <tr>\n",
       "        <td>Micael Delgado Adarga</td>\n",
       "        <td>Mestre</td>\n",
       "    </tr>\n",
       "    <tr>\n",
       "        <td>Zion Coimbra Carqueijeiro</td>\n",
       "        <td>Mestre</td>\n",
       "    </tr>\n",
       "    <tr>\n",
       "        <td>Sophia Malta Peralta</td>\n",
       "        <td>Mestre</td>\n",
       "    </tr>\n",
       "    <tr>\n",
       "        <td>Mílton Barra Pires</td>\n",
       "        <td>Mestre</td>\n",
       "    </tr>\n",
       "</table>"
      ],
      "text/plain": [
       "[('Aisha Vinhas Castelo', 'Mestre'),\n",
       " ('Abel Pestana Murtinho', 'Mestre'),\n",
       " ('Micael Delgado Adarga', 'Mestre'),\n",
       " ('Zion Coimbra Carqueijeiro', 'Mestre'),\n",
       " ('Sophia Malta Peralta', 'Mestre'),\n",
       " ('Mílton Barra Pires', 'Mestre')]"
      ]
     },
     "execution_count": 4,
     "metadata": {},
     "output_type": "execute_result"
    }
   ],
   "source": [
    "%%sql \n",
    "SELECT professorNome, professorTitulo\n",
    "FROM professor\n",
    "WHERE professorTitulo = 'Mestre'"
   ]
  },
  {
   "cell_type": "markdown",
   "metadata": {},
   "source": [
    "<b> D) </b> Nome e grau dos cursos que não são de graduação.\n",
    "\n",
    "_Resposta:_"
   ]
  },
  {
   "cell_type": "code",
   "execution_count": 5,
   "metadata": {},
   "outputs": [
    {
     "name": "stdout",
     "output_type": "stream",
     "text": [
      " * sqlite:///databases/universidade.db\n",
      "Done.\n"
     ]
    },
    {
     "data": {
      "text/html": [
       "<table>\n",
       "    <tr>\n",
       "        <th>cursoNome</th>\n",
       "        <th>cursoGrau</th>\n",
       "    </tr>\n",
       "    <tr>\n",
       "        <td>Estatística</td>\n",
       "        <td>Especialização</td>\n",
       "    </tr>\n",
       "    <tr>\n",
       "        <td>Filosofia</td>\n",
       "        <td>Especialização</td>\n",
       "    </tr>\n",
       "    <tr>\n",
       "        <td>Gestão ambiental</td>\n",
       "        <td>Especialização</td>\n",
       "    </tr>\n",
       "    <tr>\n",
       "        <td>Tecnlogia da informação</td>\n",
       "        <td>Especialização</td>\n",
       "    </tr>\n",
       "    <tr>\n",
       "        <td>Cência de dados</td>\n",
       "        <td>Mestrado</td>\n",
       "    </tr>\n",
       "    <tr>\n",
       "        <td>Jogos digitais</td>\n",
       "        <td>Especialização</td>\n",
       "    </tr>\n",
       "</table>"
      ],
      "text/plain": [
       "[('Estatística', 'Especialização'),\n",
       " ('Filosofia', 'Especialização'),\n",
       " ('Gestão ambiental', 'Especialização'),\n",
       " ('Tecnlogia da informação', 'Especialização'),\n",
       " ('Cência de dados', 'Mestrado'),\n",
       " ('Jogos digitais', 'Especialização')]"
      ]
     },
     "execution_count": 5,
     "metadata": {},
     "output_type": "execute_result"
    }
   ],
   "source": [
    "%%sql \n",
    "SELECT cursoNome, cursoGrau\n",
    "FROM curso\n",
    "WHERE cursoGrau <> 'Graduação'"
   ]
  },
  {
   "cell_type": "markdown",
   "metadata": {},
   "source": [
    "<b> E) </b> Titulo dos projetos que tiveram início no ano de 2018.\n",
    "\n",
    "_Resposta:_"
   ]
  },
  {
   "cell_type": "code",
   "execution_count": 6,
   "metadata": {},
   "outputs": [
    {
     "name": "stdout",
     "output_type": "stream",
     "text": [
      " * sqlite:///databases/universidade.db\n",
      "Done.\n"
     ]
    },
    {
     "data": {
      "text/html": [
       "<table>\n",
       "    <tr>\n",
       "        <th>projetoTitulo</th>\n",
       "        <th>projetoDataInicio</th>\n",
       "    </tr>\n",
       "    <tr>\n",
       "        <td>Projeto Biologia e sociedade</td>\n",
       "        <td>2018-08-16</td>\n",
       "    </tr>\n",
       "    <tr>\n",
       "        <td>Projeto Computação e atualidades</td>\n",
       "        <td>2018-06-11</td>\n",
       "    </tr>\n",
       "    <tr>\n",
       "        <td>Projeto Ciências e a Cidade</td>\n",
       "        <td>2018-11-24</td>\n",
       "    </tr>\n",
       "    <tr>\n",
       "        <td>Projeto Computação humana</td>\n",
       "        <td>2018-05-09</td>\n",
       "    </tr>\n",
       "    <tr>\n",
       "        <td>Projeto Computação para ensino de exatas</td>\n",
       "        <td>2018-03-04</td>\n",
       "    </tr>\n",
       "    <tr>\n",
       "        <td>Projeto Computação estatística</td>\n",
       "        <td>2018-10-23</td>\n",
       "    </tr>\n",
       "</table>"
      ],
      "text/plain": [
       "[('Projeto Biologia e sociedade', '2018-08-16'),\n",
       " ('Projeto Computação e atualidades', '2018-06-11'),\n",
       " ('Projeto Ciências e a Cidade', '2018-11-24'),\n",
       " ('Projeto Computação humana', '2018-05-09'),\n",
       " ('Projeto Computação para ensino de exatas', '2018-03-04'),\n",
       " ('Projeto Computação estatística', '2018-10-23')]"
      ]
     },
     "execution_count": 6,
     "metadata": {},
     "output_type": "execute_result"
    }
   ],
   "source": [
    "%%sql \n",
    "SELECT projetoTitulo, projetoDataInicio\n",
    "FROM projeto\n",
    "WHERE \n",
    "    projetoDataInicio >= '2018-01-01' AND \n",
    "    projetoDataInicio <= '2018-12-31'"
   ]
  },
  {
   "cell_type": "markdown",
   "metadata": {},
   "source": [
    "<b> F) </b>Titulo dos projetos com orçamento menor do que 5000 reais ou maior do que 20000 reais.\n",
    "\n",
    "_Resposta:_"
   ]
  },
  {
   "cell_type": "code",
   "execution_count": 7,
   "metadata": {},
   "outputs": [
    {
     "name": "stdout",
     "output_type": "stream",
     "text": [
      " * sqlite:///databases/universidade.db\n",
      "Done.\n"
     ]
    },
    {
     "data": {
      "text/html": [
       "<table>\n",
       "    <tr>\n",
       "        <th>projetoTitulo</th>\n",
       "        <th>projetoOrcamento</th>\n",
       "    </tr>\n",
       "    <tr>\n",
       "        <td>Projeto Extatas para a sociedade</td>\n",
       "        <td>4560.87</td>\n",
       "    </tr>\n",
       "    <tr>\n",
       "        <td>Projeto Deitos Humanos Justos</td>\n",
       "        <td>23463.28</td>\n",
       "    </tr>\n",
       "    <tr>\n",
       "        <td>Projeto Ciências e a Cidade</td>\n",
       "        <td>34839.41</td>\n",
       "    </tr>\n",
       "    <tr>\n",
       "        <td>Projeto Informática na zona rural</td>\n",
       "        <td>22170.53</td>\n",
       "    </tr>\n",
       "    <tr>\n",
       "        <td>Projeto Humanos em ação</td>\n",
       "        <td>3560.87</td>\n",
       "    </tr>\n",
       "    <tr>\n",
       "        <td>Projeto Ciência exata e humana</td>\n",
       "        <td>3364.67</td>\n",
       "    </tr>\n",
       "</table>"
      ],
      "text/plain": [
       "[('Projeto Extatas para a sociedade', 4560.87),\n",
       " ('Projeto Deitos Humanos Justos', 23463.28),\n",
       " ('Projeto Ciências e a Cidade', 34839.41),\n",
       " ('Projeto Informática na zona rural', 22170.53),\n",
       " ('Projeto Humanos em ação', 3560.87),\n",
       " ('Projeto Ciência exata e humana', 3364.67)]"
      ]
     },
     "execution_count": 7,
     "metadata": {},
     "output_type": "execute_result"
    }
   ],
   "source": [
    "%%sql \n",
    "SELECT projetoTitulo, projetoOrcamento\n",
    "FROM projeto\n",
    "WHERE \n",
    "    projetoOrcamento < 5000 OR \n",
    "    projetoOrcamento > 20000"
   ]
  },
  {
   "cell_type": "markdown",
   "metadata": {},
   "source": [
    "<b> G) </b> Nome dos estudantes que começam com a letra A\n",
    "\n",
    "_Resposta:_"
   ]
  },
  {
   "cell_type": "code",
   "execution_count": 8,
   "metadata": {},
   "outputs": [
    {
     "name": "stdout",
     "output_type": "stream",
     "text": [
      " * sqlite:///databases/universidade.db\n",
      "Done.\n"
     ]
    },
    {
     "data": {
      "text/html": [
       "<table>\n",
       "    <tr>\n",
       "        <th>estudanteNome</th>\n",
       "    </tr>\n",
       "    <tr>\n",
       "        <td>Ayaan Barreira Varão</td>\n",
       "    </tr>\n",
       "    <tr>\n",
       "        <td>Anaelle Espargosa Caeiro</td>\n",
       "    </tr>\n",
       "    <tr>\n",
       "        <td>Ana Velasco Durão</td>\n",
       "    </tr>\n",
       "    <tr>\n",
       "        <td>Alessandro Olaio Teodoro</td>\n",
       "    </tr>\n",
       "    <tr>\n",
       "        <td>Ariele Parente Cascais</td>\n",
       "    </tr>\n",
       "</table>"
      ],
      "text/plain": [
       "[('Ayaan Barreira Varão',),\n",
       " ('Anaelle Espargosa Caeiro',),\n",
       " ('Ana Velasco Durão',),\n",
       " ('Alessandro Olaio Teodoro',),\n",
       " ('Ariele Parente Cascais',)]"
      ]
     },
     "execution_count": 8,
     "metadata": {},
     "output_type": "execute_result"
    }
   ],
   "source": [
    "%%sql \n",
    "SELECT estudanteNome\n",
    "FROM estudante\n",
    "WHERE estudanteNome LIKE 'A%'"
   ]
  },
  {
   "cell_type": "markdown",
   "metadata": {},
   "source": [
    "<b> H) </b> Nome das áreas de pesquisa que contenham a palavra 'computação'.\n",
    "\n",
    "_Resposta:_"
   ]
  },
  {
   "cell_type": "code",
   "execution_count": 9,
   "metadata": {},
   "outputs": [
    {
     "name": "stdout",
     "output_type": "stream",
     "text": [
      " * sqlite:///databases/universidade.db\n",
      "Done.\n"
     ]
    },
    {
     "data": {
      "text/html": [
       "<table>\n",
       "    <tr>\n",
       "        <th>areaNome</th>\n",
       "    </tr>\n",
       "    <tr>\n",
       "        <td>Teoria da Computação</td>\n",
       "    </tr>\n",
       "    <tr>\n",
       "        <td>Matemática da Computação</td>\n",
       "    </tr>\n",
       "    <tr>\n",
       "        <td>Metodologia e Técnicas da Computação</td>\n",
       "    </tr>\n",
       "    <tr>\n",
       "        <td>Sistemas de Computação</td>\n",
       "    </tr>\n",
       "</table>"
      ],
      "text/plain": [
       "[('Teoria da Computação',),\n",
       " ('Matemática da Computação',),\n",
       " ('Metodologia e Técnicas da Computação',),\n",
       " ('Sistemas de Computação',)]"
      ]
     },
     "execution_count": 9,
     "metadata": {},
     "output_type": "execute_result"
    }
   ],
   "source": [
    "%%sql \n",
    "SELECT *\n",
    "FROM area_pesquisa\n",
    "WHERE areaNome LIKE '%computação%'"
   ]
  },
  {
   "cell_type": "code",
   "execution_count": null,
   "metadata": {},
   "outputs": [],
   "source": []
  }
 ],
 "metadata": {
  "kernelspec": {
   "display_name": "Python 3",
   "language": "python",
   "name": "python3"
  },
  "language_info": {
   "codemirror_mode": {
    "name": "ipython",
    "version": 3
   },
   "file_extension": ".py",
   "mimetype": "text/x-python",
   "name": "python",
   "nbconvert_exporter": "python",
   "pygments_lexer": "ipython3",
   "version": "3.7.0"
  }
 },
 "nbformat": 4,
 "nbformat_minor": 2
}
